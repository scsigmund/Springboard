{
 "cells": [
  {
   "cell_type": "code",
   "execution_count": 30,
   "metadata": {},
   "outputs": [],
   "source": [
    "import pandas as pd\n",
    "import os, sys\n",
    "import cv2\n",
    "import numpy as np\n",
    "import glob as gb\n",
    "import matplotlib.pyplot as plt"
   ]
  },
  {
   "cell_type": "code",
   "execution_count": 11,
   "metadata": {},
   "outputs": [],
   "source": [
    "path = \"./seg_train/seg_train/\""
   ]
  },
  {
   "cell_type": "code",
   "execution_count": 34,
   "metadata": {},
   "outputs": [],
   "source": [
    "def pull_images(folder_path):\n",
    "    Images = []\n",
    "    Categories = []\n",
    "    \n",
    "    for cats in os.listdir(folder_path):\n",
    "        \n",
    "        if cats == \"buildings\":\n",
    "            category = 0\n",
    "        elif cats == \"forest\":\n",
    "            category = 1\n",
    "        elif cats == \"glacier\":\n",
    "            category = 2\n",
    "        elif cats == \"mountain\":\n",
    "            category = 3\n",
    "        elif cats == \"sea\":\n",
    "            category = 4\n",
    "        elif cats == \"street\":\n",
    "            category = 5\n",
    "            \n",
    "        for image_file in os.listdir(folder_path+cats):\n",
    "            \n",
    "            image = cv2.imread(folder_path+cats+r'/'+image_file)\n",
    "            image = cv2.resize(image,(150,150))\n",
    "            Images.append(image)\n",
    "            Categories.append(category)\n",
    "    \n",
    "    return Images, Categories"
   ]
  },
  {
   "cell_type": "code",
   "execution_count": 35,
   "metadata": {},
   "outputs": [],
   "source": [
    "Images, Categories = pull_images(path)\n",
    "\n",
    "Images = np.array(Images)\n",
    "Categories = np.array(Categories)"
   ]
  },
  {
   "cell_type": "code",
   "execution_count": 36,
   "metadata": {},
   "outputs": [
    {
     "name": "stdout",
     "output_type": "stream",
     "text": [
      "(14034, 150, 150, 3)\n"
     ]
    }
   ],
   "source": [
    "print(Images.shape)"
   ]
  },
  {
   "cell_type": "code",
   "execution_count": 33,
   "metadata": {},
   "outputs": [
    {
     "data": {
      "text/plain": [
       "(150, 150, 3)    13986\n",
       "(113, 150, 3)        7\n",
       "(111, 150, 3)        3\n",
       "(135, 150, 3)        3\n",
       "(146, 150, 3)        2\n",
       "(136, 150, 3)        2\n",
       "(144, 150, 3)        2\n",
       "(134, 150, 3)        2\n",
       "(108, 150, 3)        2\n",
       "(123, 150, 3)        2\n",
       "(143, 150, 3)        2\n",
       "(142, 150, 3)        2\n",
       "(133, 150, 3)        1\n",
       "(145, 150, 3)        1\n",
       "(76, 150, 3)         1\n",
       "(147, 150, 3)        1\n",
       "(119, 150, 3)        1\n",
       "(102, 150, 3)        1\n",
       "(105, 150, 3)        1\n",
       "(110, 150, 3)        1\n",
       "(120, 150, 3)        1\n",
       "(100, 150, 3)        1\n",
       "(131, 150, 3)        1\n",
       "(103, 150, 3)        1\n",
       "(97, 150, 3)         1\n",
       "(149, 150, 3)        1\n",
       "(141, 150, 3)        1\n",
       "(140, 150, 3)        1\n",
       "(124, 150, 3)        1\n",
       "(115, 150, 3)        1\n",
       "(81, 150, 3)         1\n",
       "dtype: int64"
      ]
     },
     "execution_count": 33,
     "metadata": {},
     "output_type": "execute_result"
    }
   ],
   "source": [
    "image_dim = []\n",
    "for folder in os.listdir(path):\n",
    "    files = gb.glob(pathname = str(path + folder + '/*.jpg'))\n",
    "    for file in files:\n",
    "        image = plt.imread(file)\n",
    "        image_dim.append(image.shape)\n",
    "pd.Series(image_dim).value_counts()"
   ]
  },
  {
   "cell_type": "code",
   "execution_count": 39,
   "metadata": {},
   "outputs": [
    {
     "name": "stdout",
     "output_type": "stream",
     "text": [
      "[0 1 2 3 4 5]\n"
     ]
    }
   ],
   "source": [
    "print(np.unique(Categories))"
   ]
  },
  {
   "cell_type": "code",
   "execution_count": null,
   "metadata": {},
   "outputs": [],
   "source": []
  }
 ],
 "metadata": {
  "kernelspec": {
   "display_name": "Python 3",
   "language": "python",
   "name": "python3"
  },
  "language_info": {
   "codemirror_mode": {
    "name": "ipython",
    "version": 3
   },
   "file_extension": ".py",
   "mimetype": "text/x-python",
   "name": "python",
   "nbconvert_exporter": "python",
   "pygments_lexer": "ipython3",
   "version": "3.8.3"
  }
 },
 "nbformat": 4,
 "nbformat_minor": 4
}
