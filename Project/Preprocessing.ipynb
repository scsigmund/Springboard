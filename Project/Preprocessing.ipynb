{
 "cells": [
  {
   "cell_type": "code",
   "execution_count": 1,
   "metadata": {},
   "outputs": [],
   "source": [
    "#Preprocessing\n",
    "#import modules\n",
    "import pandas as pd\n",
    "import matplotlib.pyplot as plt\n",
    "import seaborn as sns\n",
    "import os"
   ]
  },
  {
   "cell_type": "code",
   "execution_count": 2,
   "metadata": {},
   "outputs": [],
   "source": [
    "chess_data = pd.read_csv('./datacleaned.csv')"
   ]
  },
  {
   "cell_type": "code",
   "execution_count": 3,
   "metadata": {},
   "outputs": [
    {
     "name": "stdout",
     "output_type": "stream",
     "text": [
      "<class 'pandas.core.frame.DataFrame'>\n",
      "RangeIndex: 19113 entries, 0 to 19112\n",
      "Data columns (total 8 columns):\n",
      " #   Column          Non-Null Count  Dtype \n",
      "---  ------          --------------  ----- \n",
      " 0   Unnamed: 0      19113 non-null  int64 \n",
      " 1   black_rating    19113 non-null  int64 \n",
      " 2   id              19113 non-null  object\n",
      " 3   rated           19113 non-null  bool  \n",
      " 4   turns           19113 non-null  int64 \n",
      " 5   victory_status  19113 non-null  object\n",
      " 6   white_rating    19113 non-null  int64 \n",
      " 7   winner          19113 non-null  object\n",
      "dtypes: bool(1), int64(4), object(3)\n",
      "memory usage: 1.0+ MB\n"
     ]
    }
   ],
   "source": [
    "chess_data.info()"
   ]
  },
  {
   "cell_type": "code",
   "execution_count": 5,
   "metadata": {},
   "outputs": [],
   "source": [
    "chess_data = chess_data.drop(chess_data.columns[[0,2]], axis=1)"
   ]
  },
  {
   "cell_type": "code",
   "execution_count": 6,
   "metadata": {},
   "outputs": [
    {
     "name": "stdout",
     "output_type": "stream",
     "text": [
      "<class 'pandas.core.frame.DataFrame'>\n",
      "RangeIndex: 19113 entries, 0 to 19112\n",
      "Data columns (total 6 columns):\n",
      " #   Column          Non-Null Count  Dtype \n",
      "---  ------          --------------  ----- \n",
      " 0   black_rating    19113 non-null  int64 \n",
      " 1   rated           19113 non-null  bool  \n",
      " 2   turns           19113 non-null  int64 \n",
      " 3   victory_status  19113 non-null  object\n",
      " 4   white_rating    19113 non-null  int64 \n",
      " 5   winner          19113 non-null  object\n",
      "dtypes: bool(1), int64(3), object(2)\n",
      "memory usage: 765.4+ KB\n"
     ]
    }
   ],
   "source": [
    "chess_data.info()"
   ]
  },
  {
   "cell_type": "code",
   "execution_count": 7,
   "metadata": {},
   "outputs": [],
   "source": [
    "dummy = pd.get_dummies(chess_data['victory_status'])"
   ]
  },
  {
   "cell_type": "code",
   "execution_count": 8,
   "metadata": {},
   "outputs": [
    {
     "name": "stdout",
     "output_type": "stream",
     "text": [
      "       draw  mate  outoftime  resign\n",
      "0         0     0          1       0\n",
      "1         0     0          0       1\n",
      "2         0     1          0       0\n",
      "3         0     1          0       0\n",
      "4         0     1          0       0\n",
      "...     ...   ...        ...     ...\n",
      "19108     0     0          0       1\n",
      "19109     0     1          0       0\n",
      "19110     0     1          0       0\n",
      "19111     0     0          0       1\n",
      "19112     0     1          0       0\n",
      "\n",
      "[19113 rows x 4 columns]\n"
     ]
    }
   ],
   "source": [
    "print(dummy)"
   ]
  },
  {
   "cell_type": "code",
   "execution_count": 9,
   "metadata": {},
   "outputs": [
    {
     "data": {
      "text/html": [
       "<div>\n",
       "<style scoped>\n",
       "    .dataframe tbody tr th:only-of-type {\n",
       "        vertical-align: middle;\n",
       "    }\n",
       "\n",
       "    .dataframe tbody tr th {\n",
       "        vertical-align: top;\n",
       "    }\n",
       "\n",
       "    .dataframe thead th {\n",
       "        text-align: right;\n",
       "    }\n",
       "</style>\n",
       "<table border=\"1\" class=\"dataframe\">\n",
       "  <thead>\n",
       "    <tr style=\"text-align: right;\">\n",
       "      <th></th>\n",
       "      <th>black_rating</th>\n",
       "      <th>rated</th>\n",
       "      <th>turns</th>\n",
       "      <th>victory_status</th>\n",
       "      <th>white_rating</th>\n",
       "      <th>winner</th>\n",
       "      <th>draw</th>\n",
       "      <th>mate</th>\n",
       "      <th>outoftime</th>\n",
       "      <th>resign</th>\n",
       "    </tr>\n",
       "  </thead>\n",
       "  <tbody>\n",
       "    <tr>\n",
       "      <th>0</th>\n",
       "      <td>1191</td>\n",
       "      <td>False</td>\n",
       "      <td>13</td>\n",
       "      <td>outoftime</td>\n",
       "      <td>1500</td>\n",
       "      <td>white</td>\n",
       "      <td>0</td>\n",
       "      <td>0</td>\n",
       "      <td>1</td>\n",
       "      <td>0</td>\n",
       "    </tr>\n",
       "    <tr>\n",
       "      <th>1</th>\n",
       "      <td>1261</td>\n",
       "      <td>True</td>\n",
       "      <td>16</td>\n",
       "      <td>resign</td>\n",
       "      <td>1322</td>\n",
       "      <td>black</td>\n",
       "      <td>0</td>\n",
       "      <td>0</td>\n",
       "      <td>0</td>\n",
       "      <td>1</td>\n",
       "    </tr>\n",
       "    <tr>\n",
       "      <th>2</th>\n",
       "      <td>1500</td>\n",
       "      <td>True</td>\n",
       "      <td>61</td>\n",
       "      <td>mate</td>\n",
       "      <td>1496</td>\n",
       "      <td>white</td>\n",
       "      <td>0</td>\n",
       "      <td>1</td>\n",
       "      <td>0</td>\n",
       "      <td>0</td>\n",
       "    </tr>\n",
       "    <tr>\n",
       "      <th>3</th>\n",
       "      <td>1454</td>\n",
       "      <td>True</td>\n",
       "      <td>61</td>\n",
       "      <td>mate</td>\n",
       "      <td>1439</td>\n",
       "      <td>white</td>\n",
       "      <td>0</td>\n",
       "      <td>1</td>\n",
       "      <td>0</td>\n",
       "      <td>0</td>\n",
       "    </tr>\n",
       "    <tr>\n",
       "      <th>4</th>\n",
       "      <td>1469</td>\n",
       "      <td>True</td>\n",
       "      <td>95</td>\n",
       "      <td>mate</td>\n",
       "      <td>1523</td>\n",
       "      <td>white</td>\n",
       "      <td>0</td>\n",
       "      <td>1</td>\n",
       "      <td>0</td>\n",
       "      <td>0</td>\n",
       "    </tr>\n",
       "  </tbody>\n",
       "</table>\n",
       "</div>"
      ],
      "text/plain": [
       "   black_rating  rated  turns victory_status  white_rating winner  draw  mate  \\\n",
       "0          1191  False     13      outoftime          1500  white     0     0   \n",
       "1          1261   True     16         resign          1322  black     0     0   \n",
       "2          1500   True     61           mate          1496  white     0     1   \n",
       "3          1454   True     61           mate          1439  white     0     1   \n",
       "4          1469   True     95           mate          1523  white     0     1   \n",
       "\n",
       "   outoftime  resign  \n",
       "0          1       0  \n",
       "1          0       1  \n",
       "2          0       0  \n",
       "3          0       0  \n",
       "4          0       0  "
      ]
     },
     "execution_count": 9,
     "metadata": {},
     "output_type": "execute_result"
    }
   ],
   "source": [
    "chess_with_dummy = pd.concat([chess_data, dummy], axis=1)\n",
    "chess_with_dummy.head()"
   ]
  },
  {
   "cell_type": "code",
   "execution_count": 11,
   "metadata": {},
   "outputs": [],
   "source": [
    "from sklearn.preprocessing import StandardScaler\n",
    "from sklearn.model_selection import train_test_split"
   ]
  },
  {
   "cell_type": "code",
   "execution_count": 14,
   "metadata": {},
   "outputs": [
    {
     "name": "stdout",
     "output_type": "stream",
     "text": [
      "[1590.04551876]\n"
     ]
    }
   ],
   "source": [
    "scaler= StandardScaler()\n",
    "scaler.fit(chess_with_dummy[['black_rating']])\n",
    "print(scaler.mean_)\n",
    "chess_with_dummy['black_ss'] = scaler.transform(chess_with_dummy[['black_rating']])\n"
   ]
  },
  {
   "cell_type": "code",
   "execution_count": 15,
   "metadata": {},
   "outputs": [
    {
     "name": "stdout",
     "output_type": "stream",
     "text": [
      "[1597.30000523]\n",
      "[60.51383875]\n"
     ]
    }
   ],
   "source": [
    "scaler.fit(chess_with_dummy[['white_rating']])\n",
    "print(scaler.mean_)\n",
    "chess_with_dummy['white_ss'] = scaler.transform(chess_with_dummy[['white_rating']])\n",
    "scaler.fit(chess_with_dummy[['turns']])\n",
    "print(scaler.mean_)\n",
    "chess_with_dummy['turns_ss'] = scaler.transform(chess_with_dummy[['turns']])"
   ]
  },
  {
   "cell_type": "code",
   "execution_count": 16,
   "metadata": {},
   "outputs": [
    {
     "name": "stdout",
     "output_type": "stream",
     "text": [
      "   turns  turns_ss  white_rating  white_ss  black_rating  black_ss\n",
      "0     13 -1.418858          1500 -0.335500          1191 -1.373962\n",
      "1     16 -1.329272          1322 -0.949261          1261 -1.132944\n",
      "2     61  0.014518          1496 -0.349292          1500 -0.310038\n",
      "3     61  0.014518          1439 -0.545834          1454 -0.468421\n",
      "4     95  1.029825          1523 -0.256194          1469 -0.416774\n"
     ]
    }
   ],
   "source": [
    "print(chess_with_dummy[['turns', 'turns_ss', 'white_rating', 'white_ss', 'black_rating', 'black_ss']].head())"
   ]
  },
  {
   "cell_type": "code",
   "execution_count": 17,
   "metadata": {},
   "outputs": [],
   "source": [
    "y = chess_with_dummy.pop('winner')\n",
    "X = chess_with_dummy\n",
    "X_train, X_test, y_train, y_test = train_test_split(X, y, test_size=0.33, random_state=42)"
   ]
  },
  {
   "cell_type": "code",
   "execution_count": null,
   "metadata": {},
   "outputs": [],
   "source": []
  }
 ],
 "metadata": {
  "kernelspec": {
   "display_name": "Python 3",
   "language": "python",
   "name": "python3"
  },
  "language_info": {
   "codemirror_mode": {
    "name": "ipython",
    "version": 3
   },
   "file_extension": ".py",
   "mimetype": "text/x-python",
   "name": "python",
   "nbconvert_exporter": "python",
   "pygments_lexer": "ipython3",
   "version": "3.8.3"
  }
 },
 "nbformat": 4,
 "nbformat_minor": 4
}
