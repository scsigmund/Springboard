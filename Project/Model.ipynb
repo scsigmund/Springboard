{
 "cells": [
  {
   "cell_type": "code",
   "execution_count": 1,
   "metadata": {},
   "outputs": [],
   "source": [
    "#import modules\n",
    "import pandas as pd\n",
    "from sklearn.linear_model import LogisticRegression\n",
    "from sklearn.naive_bayes import GaussianNB\n",
    "from sklearn.neighbors import KNeighborsClassifier\n",
    "from sklearn.tree import DecisionTreeClassifier\n",
    "from sklearn.metrics import classification_report\n",
    "from sklearn.metrics import confusion_matrix\n"
   ]
  },
  {
   "cell_type": "code",
   "execution_count": 2,
   "metadata": {},
   "outputs": [],
   "source": [
    "chess_data = pd.read_csv('./datacleaned.csv')"
   ]
  },
  {
   "cell_type": "code",
   "execution_count": 3,
   "metadata": {},
   "outputs": [],
   "source": [
    "chess_data = chess_data.drop(chess_data.columns[[0,2]], axis=1)"
   ]
  },
  {
   "cell_type": "code",
   "execution_count": 4,
   "metadata": {},
   "outputs": [
    {
     "name": "stdout",
     "output_type": "stream",
     "text": [
      "<class 'pandas.core.frame.DataFrame'>\n",
      "RangeIndex: 19113 entries, 0 to 19112\n",
      "Data columns (total 6 columns):\n",
      " #   Column          Non-Null Count  Dtype \n",
      "---  ------          --------------  ----- \n",
      " 0   black_rating    19113 non-null  int64 \n",
      " 1   rated           19113 non-null  bool  \n",
      " 2   turns           19113 non-null  int64 \n",
      " 3   victory_status  19113 non-null  object\n",
      " 4   white_rating    19113 non-null  int64 \n",
      " 5   winner          19113 non-null  object\n",
      "dtypes: bool(1), int64(3), object(2)\n",
      "memory usage: 765.4+ KB\n"
     ]
    }
   ],
   "source": [
    "chess_data.info()"
   ]
  },
  {
   "cell_type": "code",
   "execution_count": 5,
   "metadata": {},
   "outputs": [],
   "source": [
    "dummy = pd.get_dummies(chess_data['victory_status'])"
   ]
  },
  {
   "cell_type": "code",
   "execution_count": 6,
   "metadata": {},
   "outputs": [
    {
     "data": {
      "text/html": [
       "<div>\n",
       "<style scoped>\n",
       "    .dataframe tbody tr th:only-of-type {\n",
       "        vertical-align: middle;\n",
       "    }\n",
       "\n",
       "    .dataframe tbody tr th {\n",
       "        vertical-align: top;\n",
       "    }\n",
       "\n",
       "    .dataframe thead th {\n",
       "        text-align: right;\n",
       "    }\n",
       "</style>\n",
       "<table border=\"1\" class=\"dataframe\">\n",
       "  <thead>\n",
       "    <tr style=\"text-align: right;\">\n",
       "      <th></th>\n",
       "      <th>black_rating</th>\n",
       "      <th>rated</th>\n",
       "      <th>turns</th>\n",
       "      <th>victory_status</th>\n",
       "      <th>white_rating</th>\n",
       "      <th>winner</th>\n",
       "      <th>draw</th>\n",
       "      <th>mate</th>\n",
       "      <th>outoftime</th>\n",
       "      <th>resign</th>\n",
       "    </tr>\n",
       "  </thead>\n",
       "  <tbody>\n",
       "    <tr>\n",
       "      <th>0</th>\n",
       "      <td>1191</td>\n",
       "      <td>False</td>\n",
       "      <td>13</td>\n",
       "      <td>outoftime</td>\n",
       "      <td>1500</td>\n",
       "      <td>white</td>\n",
       "      <td>0</td>\n",
       "      <td>0</td>\n",
       "      <td>1</td>\n",
       "      <td>0</td>\n",
       "    </tr>\n",
       "    <tr>\n",
       "      <th>1</th>\n",
       "      <td>1261</td>\n",
       "      <td>True</td>\n",
       "      <td>16</td>\n",
       "      <td>resign</td>\n",
       "      <td>1322</td>\n",
       "      <td>black</td>\n",
       "      <td>0</td>\n",
       "      <td>0</td>\n",
       "      <td>0</td>\n",
       "      <td>1</td>\n",
       "    </tr>\n",
       "    <tr>\n",
       "      <th>2</th>\n",
       "      <td>1500</td>\n",
       "      <td>True</td>\n",
       "      <td>61</td>\n",
       "      <td>mate</td>\n",
       "      <td>1496</td>\n",
       "      <td>white</td>\n",
       "      <td>0</td>\n",
       "      <td>1</td>\n",
       "      <td>0</td>\n",
       "      <td>0</td>\n",
       "    </tr>\n",
       "    <tr>\n",
       "      <th>3</th>\n",
       "      <td>1454</td>\n",
       "      <td>True</td>\n",
       "      <td>61</td>\n",
       "      <td>mate</td>\n",
       "      <td>1439</td>\n",
       "      <td>white</td>\n",
       "      <td>0</td>\n",
       "      <td>1</td>\n",
       "      <td>0</td>\n",
       "      <td>0</td>\n",
       "    </tr>\n",
       "    <tr>\n",
       "      <th>4</th>\n",
       "      <td>1469</td>\n",
       "      <td>True</td>\n",
       "      <td>95</td>\n",
       "      <td>mate</td>\n",
       "      <td>1523</td>\n",
       "      <td>white</td>\n",
       "      <td>0</td>\n",
       "      <td>1</td>\n",
       "      <td>0</td>\n",
       "      <td>0</td>\n",
       "    </tr>\n",
       "  </tbody>\n",
       "</table>\n",
       "</div>"
      ],
      "text/plain": [
       "   black_rating  rated  turns victory_status  white_rating winner  draw  mate  \\\n",
       "0          1191  False     13      outoftime          1500  white     0     0   \n",
       "1          1261   True     16         resign          1322  black     0     0   \n",
       "2          1500   True     61           mate          1496  white     0     1   \n",
       "3          1454   True     61           mate          1439  white     0     1   \n",
       "4          1469   True     95           mate          1523  white     0     1   \n",
       "\n",
       "   outoftime  resign  \n",
       "0          1       0  \n",
       "1          0       1  \n",
       "2          0       0  \n",
       "3          0       0  \n",
       "4          0       0  "
      ]
     },
     "execution_count": 6,
     "metadata": {},
     "output_type": "execute_result"
    }
   ],
   "source": [
    "chess_with_dummy = pd.concat([chess_data, dummy], axis=1)\n",
    "chess_with_dummy.head()"
   ]
  },
  {
   "cell_type": "code",
   "execution_count": 7,
   "metadata": {},
   "outputs": [],
   "source": [
    "from sklearn.preprocessing import StandardScaler\n",
    "from sklearn.model_selection import train_test_split"
   ]
  },
  {
   "cell_type": "code",
   "execution_count": 8,
   "metadata": {},
   "outputs": [
    {
     "name": "stdout",
     "output_type": "stream",
     "text": [
      "[1590.04551876]\n"
     ]
    }
   ],
   "source": [
    "scaler= StandardScaler()\n",
    "scaler.fit(chess_with_dummy[['black_rating']])\n",
    "print(scaler.mean_)\n",
    "chess_with_dummy['black_ss'] = scaler.transform(chess_with_dummy[['black_rating']])"
   ]
  },
  {
   "cell_type": "code",
   "execution_count": 9,
   "metadata": {},
   "outputs": [
    {
     "name": "stdout",
     "output_type": "stream",
     "text": [
      "[1597.30000523]\n",
      "[60.51383875]\n"
     ]
    }
   ],
   "source": [
    "scaler.fit(chess_with_dummy[['white_rating']])\n",
    "print(scaler.mean_)\n",
    "chess_with_dummy['white_ss'] = scaler.transform(chess_with_dummy[['white_rating']])\n",
    "scaler.fit(chess_with_dummy[['turns']])\n",
    "print(scaler.mean_)\n",
    "chess_with_dummy['turns_ss'] = scaler.transform(chess_with_dummy[['turns']])"
   ]
  },
  {
   "cell_type": "code",
   "execution_count": 10,
   "metadata": {},
   "outputs": [
    {
     "name": "stdout",
     "output_type": "stream",
     "text": [
      "<class 'pandas.core.frame.DataFrame'>\n",
      "RangeIndex: 19113 entries, 0 to 19112\n",
      "Data columns (total 11 columns):\n",
      " #   Column        Non-Null Count  Dtype  \n",
      "---  ------        --------------  -----  \n",
      " 0   black_rating  19113 non-null  int64  \n",
      " 1   rated         19113 non-null  bool   \n",
      " 2   turns         19113 non-null  int64  \n",
      " 3   white_rating  19113 non-null  int64  \n",
      " 4   draw          19113 non-null  uint8  \n",
      " 5   mate          19113 non-null  uint8  \n",
      " 6   outoftime     19113 non-null  uint8  \n",
      " 7   resign        19113 non-null  uint8  \n",
      " 8   black_ss      19113 non-null  float64\n",
      " 9   white_ss      19113 non-null  float64\n",
      " 10  turns_ss      19113 non-null  float64\n",
      "dtypes: bool(1), float64(3), int64(3), uint8(4)\n",
      "memory usage: 989.4 KB\n"
     ]
    }
   ],
   "source": [
    "y = chess_with_dummy.pop('winner')\n",
    "X = chess_with_dummy.drop(columns=['victory_status'])\n",
    "X.info()"
   ]
  },
  {
   "cell_type": "code",
   "execution_count": 11,
   "metadata": {},
   "outputs": [],
   "source": [
    "X_train, X_test, y_train, y_test = train_test_split(X, y, test_size=0.20, random_state=42)\n",
    "#finished loading train test data\n"
   ]
  },
  {
   "cell_type": "code",
   "execution_count": 19,
   "metadata": {},
   "outputs": [
    {
     "name": "stdout",
     "output_type": "stream",
     "text": [
      "Accuracy of Logistic Regression: 0.656552445723254\n",
      "Precision of Logistic Regression: 0.6569280129710147\n",
      "Recall of Logistic Regression: 0.656552445723254\n",
      "F1 of Logistic Regression: 0.6560507856822165\n"
     ]
    },
    {
     "data": {
      "text/plain": [
       "<matplotlib.axes._subplots.AxesSubplot at 0x1ce2e997a60>"
      ]
     },
     "execution_count": 19,
     "metadata": {},
     "output_type": "execute_result"
    },
    {
     "data": {
      "image/png": "[encoded data removed]",
      "text/plain": [
       "<Figure size 432x288 with 2 Axes>"
      ]
     },
     "metadata": {
      "needs_background": "light"
     },
     "output_type": "display_data"
    }
   ],
   "source": [
    "#Logistic Regression\n",
    "import seaborn as sns\n",
    "import numpy as np\n",
    "import sklearn.metrics as m\n",
    "\n",
    "lr = LogisticRegression(max_iter=1000)\n",
    "lr.fit(X_train, y_train)\n",
    "lr_y_pred = lr.predict(X_test)\n",
    "print('Accuracy of Logistic Regression: {}'.format(m.accuracy_score(y_test,lr_y_pred)))\n",
    "print('Precision of Logistic Regression: {}'.format(m.precision_score(y_test,lr_y_pred, average='weighted')))\n",
    "print('Recall of Logistic Regression: {}'.format(m.recall_score(y_test,lr_y_pred, average='weighted')))\n",
    "print('F1 of Logistic Regression: {}'.format(m.f1_score(y_test,lr_y_pred, average='weighted')))\n",
    "cf_matrix = confusion_matrix(y_test, lr_y_pred)\n",
    "sns.heatmap(cf_matrix/np.sum(cf_matrix), annot=True, cmap='Blues', fmt='.4%')"
   ]
  },
  {
   "cell_type": "code",
   "execution_count": 20,
   "metadata": {},
   "outputs": [
    {
     "name": "stdout",
     "output_type": "stream",
     "text": [
      "Accuracy of Naive Bayes: 0.656552445723254\n",
      "Precision of Naive Bayes: 0.6569280129710147\n",
      "Recall of Naive Bayes: 0.656552445723254\n",
      "F1 of Naive Bayes: 0.6560507856822165\n"
     ]
    },
    {
     "data": {
      "text/plain": [
       "<matplotlib.axes._subplots.AxesSubplot at 0x1ce2e975ee0>"
      ]
     },
     "execution_count": 20,
     "metadata": {},
     "output_type": "execute_result"
    },
    {
     "data": {
      "image/png": "[encoded data removed]",
      "text/plain": [
       "<Figure size 432x288 with 2 Axes>"
      ]
     },
     "metadata": {
      "needs_background": "light"
     },
     "output_type": "display_data"
    }
   ],
   "source": [
    "#Naive Bayes\n",
    "nb = GaussianNB()\n",
    "nb.fit(X_train, y_train)\n",
    "nb_y_pred = lr.predict(X_test)\n",
    "print('Accuracy of Naive Bayes: {}'.format(m.accuracy_score(y_test,nb_y_pred)))\n",
    "print('Precision of Naive Bayes: {}'.format(m.precision_score(y_test,nb_y_pred, average='weighted')))\n",
    "print('Recall of Naive Bayes: {}'.format(m.recall_score(y_test,nb_y_pred, average='weighted')))\n",
    "print('F1 of Naive Bayes: {}'.format(m.f1_score(y_test,nb_y_pred, average='weighted')))\n",
    "cf_matrix = confusion_matrix(y_test, nb_y_pred)\n",
    "sns.heatmap(cf_matrix/np.sum(cf_matrix), annot=True, cmap='Blues', fmt='.4%')"
   ]
  },
  {
   "cell_type": "code",
   "execution_count": 25,
   "metadata": {},
   "outputs": [
    {
     "data": {
      "text/plain": [
       "<matplotlib.axes._subplots.AxesSubplot at 0x1ce2e6c4100>"
      ]
     },
     "execution_count": 25,
     "metadata": {},
     "output_type": "execute_result"
    },
    {
     "data": {
      "image/png": "[encoded data removed]",
      "text/plain": [
       "<Figure size 576x288 with 1 Axes>"
      ]
     },
     "metadata": {
      "needs_background": "light"
     },
     "output_type": "display_data"
    }
   ],
   "source": [
    "#Decision Tree\n",
    "#Find best number of branches\n",
    "import matplotlib.pyplot as plt\n",
    "results = []\n",
    "max_depth_branches = [2,4,6,8,10,12,14,16,18,20]\n",
    "for branches in max_depth_branches:\n",
    "    model = DecisionTreeClassifier(max_depth=branches, random_state=42)\n",
    "    model.fit(X_train, y_train)\n",
    "    dt_y_pred = model.predict(X_test)\n",
    "    accuracy = np.mean(y_test == dt_y_pred)\n",
    "    results.append(accuracy)\n",
    "    \n",
    "plt.figure(figsize=(8,4))\n",
    "pd.Series(results, max_depth_branches).plot(color=\"blue\",marker=\".\")"
   ]
  },
  {
   "cell_type": "code",
   "execution_count": 26,
   "metadata": {},
   "outputs": [
    {
     "name": "stdout",
     "output_type": "stream",
     "text": [
      "Accuracy of Decision Tree: 0.6599529165576772\n",
      "Precision of Decision Tree: 0.6607792954885098\n",
      "Recall of Decision Tree: 0.6599529165576772\n",
      "F1 of Decision Tree: 0.658113711440929\n"
     ]
    },
    {
     "data": {
      "text/plain": [
       "<matplotlib.axes._subplots.AxesSubplot at 0x1ce2e6c8070>"
      ]
     },
     "execution_count": 26,
     "metadata": {},
     "output_type": "execute_result"
    },
    {
     "data": {
      "image/png": "[encoded data removed]",
      "text/plain": [
       "<Figure size 432x288 with 2 Axes>"
      ]
     },
     "metadata": {
      "needs_background": "light"
     },
     "output_type": "display_data"
    }
   ],
   "source": [
    "dt = DecisionTreeClassifier(max_depth=10, random_state=42)\n",
    "dt.fit(X_train, y_train)\n",
    "dt_y_pred = dt.predict(X_test)\n",
    "print('Accuracy of Decision Tree: {}'.format(m.accuracy_score(y_test,dt_y_pred)))\n",
    "print('Precision of Decision Tree: {}'.format(m.precision_score(y_test,dt_y_pred, average='weighted')))\n",
    "print('Recall of Decision Tree: {}'.format(m.recall_score(y_test,dt_y_pred, average='weighted')))\n",
    "print('F1 of Decision Tree: {}'.format(m.f1_score(y_test,dt_y_pred, average='weighted')))\n",
    "cf_matrix = confusion_matrix(y_test, dt_y_pred)\n",
    "sns.heatmap(cf_matrix/np.sum(cf_matrix), annot=True, cmap='Blues', fmt='.4%')"
   ]
  },
  {
   "cell_type": "code",
   "execution_count": 29,
   "metadata": {},
   "outputs": [
    {
     "data": {
      "text/html": [
       "<div>\n",
       "<style scoped>\n",
       "    .dataframe tbody tr th:only-of-type {\n",
       "        vertical-align: middle;\n",
       "    }\n",
       "\n",
       "    .dataframe tbody tr th {\n",
       "        vertical-align: top;\n",
       "    }\n",
       "\n",
       "    .dataframe thead th {\n",
       "        text-align: right;\n",
       "    }\n",
       "</style>\n",
       "<table border=\"1\" class=\"dataframe\">\n",
       "  <thead>\n",
       "    <tr style=\"text-align: right;\">\n",
       "      <th></th>\n",
       "      <th>Model</th>\n",
       "      <th>Accuracy</th>\n",
       "      <th>Precision</th>\n",
       "      <th>Recall</th>\n",
       "      <th>F1</th>\n",
       "    </tr>\n",
       "  </thead>\n",
       "  <tbody>\n",
       "    <tr>\n",
       "      <th>0</th>\n",
       "      <td>Decision Tree</td>\n",
       "      <td>0.659953</td>\n",
       "      <td>0.660779</td>\n",
       "      <td>0.659953</td>\n",
       "      <td>0.658114</td>\n",
       "    </tr>\n",
       "    <tr>\n",
       "      <th>1</th>\n",
       "      <td>Naive Bayes</td>\n",
       "      <td>0.656552</td>\n",
       "      <td>0.656928</td>\n",
       "      <td>0.656552</td>\n",
       "      <td>0.656051</td>\n",
       "    </tr>\n",
       "    <tr>\n",
       "      <th>2</th>\n",
       "      <td>Logistic Regression</td>\n",
       "      <td>0.656552</td>\n",
       "      <td>0.656928</td>\n",
       "      <td>0.656552</td>\n",
       "      <td>0.656051</td>\n",
       "    </tr>\n",
       "  </tbody>\n",
       "</table>\n",
       "</div>"
      ],
      "text/plain": [
       "                 Model  Accuracy  Precision    Recall        F1\n",
       "0        Decision Tree  0.659953   0.660779  0.659953  0.658114\n",
       "1          Naive Bayes  0.656552   0.656928  0.656552  0.656051\n",
       "2  Logistic Regression  0.656552   0.656928  0.656552  0.656051"
      ]
     },
     "execution_count": 29,
     "metadata": {},
     "output_type": "execute_result"
    }
   ],
   "source": [
    "modelResults = [\n",
    "    [\"Decision Tree\",\n",
    "     m.accuracy_score(y_test,dt_y_pred),\n",
    "     m.precision_score(y_test,dt_y_pred, average='weighted'),\n",
    "     m.recall_score(y_test,dt_y_pred, average='weighted'),\n",
    "     m.f1_score(y_test,dt_y_pred, average='weighted')],\n",
    "    [\"Naive Bayes\",\n",
    "     m.accuracy_score(y_test,nb_y_pred),\n",
    "     m.precision_score(y_test,nb_y_pred, average='weighted'),\n",
    "     m.recall_score(y_test,nb_y_pred, average='weighted'),\n",
    "     m.f1_score(y_test,nb_y_pred, average='weighted')],\n",
    "    [\"Logistic Regression\",\n",
    "     m.accuracy_score(y_test,lr_y_pred),\n",
    "     m.precision_score(y_test,lr_y_pred, average='weighted'),\n",
    "     m.recall_score(y_test,lr_y_pred, average='weighted'),\n",
    "     m.f1_score(y_test,lr_y_pred, average='weighted')]\n",
    "]\n",
    "\n",
    "pd.DataFrame(modelResults, columns=[\"Model\",\"Accuracy\",\"Precision\",\"Recall\",\"F1\"])"
   ]
  },
  {
   "cell_type": "code",
   "execution_count": null,
   "metadata": {},
   "outputs": [],
   "source": [
    "#The best model was the Decision Tree model but not by much"
   ]
  }
 ],
 "metadata": {
  "kernelspec": {
   "display_name": "Python 3",
   "language": "python",
   "name": "python3"
  },
  "language_info": {
   "codemirror_mode": {
    "name": "ipython",
    "version": 3
   },
   "file_extension": ".py",
   "mimetype": "text/x-python",
   "name": "python",
   "nbconvert_exporter": "python",
   "pygments_lexer": "ipython3",
   "version": "3.8.3"
  }
 },
 "nbformat": 4,
 "nbformat_minor": 4
}
